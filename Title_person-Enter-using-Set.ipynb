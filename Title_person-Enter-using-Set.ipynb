{
 "cells": [
  {
   "cell_type": "code",
   "execution_count": 1,
   "metadata": {
    "collapsed": true
   },
   "outputs": [],
   "source": [
    "# Initlize set\n",
    "title_set = set()"
   ]
  },
  {
   "cell_type": "code",
   "execution_count": 3,
   "metadata": {
    "collapsed": false
   },
   "outputs": [
    {
     "name": "stdout",
     "output_type": "stream",
     "text": [
      "\t\t Enter q to Quit!!!!\n",
      "Enter the title: kausar\n",
      "Enter the title: kausar\n",
      "Enter the title: khan\n",
      "Enter the title: khatoon\n",
      "Enter the title: hasa\n",
      "Enter the title: hasan\n",
      "Enter the title: hasa\n",
      "Enter the title: q\n"
     ]
    }
   ],
   "source": [
    "print(\"\\t\"*2,'Enter q to Quit!!!!')\n",
    "while True:\n",
    "    title = input(\"Enter the title: \")\n",
    "    if title == 'q':\n",
    "        break\n",
    "    else:\n",
    "        title_set.add(title)\n",
    "    "
   ]
  },
  {
   "cell_type": "code",
   "execution_count": 7,
   "metadata": {
    "collapsed": false
   },
   "outputs": [
    {
     "name": "stdout",
     "output_type": "stream",
     "text": [
      "khan\n",
      "kausar\n",
      "khatoon\n",
      "hasan\n",
      "hasa\n"
     ]
    }
   ],
   "source": [
    "# Dispaly the Titles\n",
    "for title in title_set:\n",
    "    print(title)"
   ]
  },
  {
   "cell_type": "code",
   "execution_count": null,
   "metadata": {
    "collapsed": true
   },
   "outputs": [],
   "source": []
  }
 ],
 "metadata": {
  "anaconda-cloud": {},
  "kernelspec": {
   "display_name": "Python [conda root]",
   "language": "python",
   "name": "conda-root-py"
  },
  "language_info": {
   "codemirror_mode": {
    "name": "ipython",
    "version": 3
   },
   "file_extension": ".py",
   "mimetype": "text/x-python",
   "name": "python",
   "nbconvert_exporter": "python",
   "pygments_lexer": "ipython3",
   "version": "3.5.2"
  }
 },
 "nbformat": 4,
 "nbformat_minor": 1
}
