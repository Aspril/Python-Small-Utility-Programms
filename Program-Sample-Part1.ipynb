{
 "cells": [
  {
   "cell_type": "code",
   "execution_count": 1,
   "metadata": {
    "collapsed": true
   },
   "outputs": [],
   "source": [
    "#Remove Vowels in a sentences\n",
    "def anti_vowels(text):\n",
    "    new_word = ''\n",
    "    for i in text:\n",
    "        if i not in \"aeiouAEIOU\":\n",
    "            new_word += i\n",
    "    return new_word"
   ]
  },
  {
   "cell_type": "code",
   "execution_count": 2,
   "metadata": {
    "collapsed": false
   },
   "outputs": [
    {
     "data": {
      "text/plain": [
       "'Jpytr Prgrm-Smpl-Prt1'"
      ]
     },
     "execution_count": 2,
     "metadata": {},
     "output_type": "execute_result"
    }
   ],
   "source": [
    "anti_vowels(\"Jupyter Program-Sample-Part1\")"
   ]
  },
  {
   "cell_type": "code",
   "execution_count": 3,
   "metadata": {
    "collapsed": false
   },
   "outputs": [
    {
     "name": "stdout",
     "output_type": "stream",
     "text": [
      "What do get when you cross a snowman with Vempire\n",
      "I dont know\n",
      "Frostbite\n",
      "\n"
     ]
    }
   ],
   "source": [
    "#Interactive Jokes\n",
    "print(\"What do get when you cross a snowman with Vempire\")\n",
    "input()\n",
    "print(\"Frostbite\")\n",
    "print()"
   ]
  },
  {
   "cell_type": "code",
   "execution_count": 4,
   "metadata": {
    "collapsed": false
   },
   "outputs": [
    {
     "data": {
      "text/plain": [
       "'f'"
      ]
     },
     "execution_count": 4,
     "metadata": {},
     "output_type": "execute_result"
    }
   ],
   "source": [
    "#Randomly pick letters\n",
    "import random\n",
    "random.choice(\"The Quick brown fox jumps over the lazy dog\")"
   ]
  },
  {
   "cell_type": "code",
   "execution_count": 7,
   "metadata": {
    "collapsed": true
   },
   "outputs": [],
   "source": [
    "#Reverse the Sentences\n",
    "def rev_sen(text):\n",
    "    count = len(text) - 1\n",
    "    out = []\n",
    "    while (count > -1):\n",
    "        out.append(text[count])\n",
    "        count -= 1\n",
    "    new = ''\n",
    "    \n",
    "    return new.join(out)\n",
    "    "
   ]
  },
  {
   "cell_type": "code",
   "execution_count": 8,
   "metadata": {
    "collapsed": false
   },
   "outputs": [
    {
     "data": {
      "text/plain": [
       "'naf ruoy ma I 3nohtyP iH'"
      ]
     },
     "execution_count": 8,
     "metadata": {},
     "output_type": "execute_result"
    }
   ],
   "source": [
    "rev_sen(\"Hi Python3 I am your fan\")"
   ]
  },
  {
   "cell_type": "code",
   "execution_count": null,
   "metadata": {
    "collapsed": true
   },
   "outputs": [],
   "source": []
  }
 ],
 "metadata": {
  "anaconda-cloud": {},
  "kernelspec": {
   "display_name": "Python [default]",
   "language": "python",
   "name": "python3"
  },
  "language_info": {
   "codemirror_mode": {
    "name": "ipython",
    "version": 3
   },
   "file_extension": ".py",
   "mimetype": "text/x-python",
   "name": "python",
   "nbconvert_exporter": "python",
   "pygments_lexer": "ipython3",
   "version": "3.5.2"
  }
 },
 "nbformat": 4,
 "nbformat_minor": 1
}
