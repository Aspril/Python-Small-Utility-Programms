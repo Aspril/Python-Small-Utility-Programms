{
 "cells": [
  {
   "cell_type": "code",
   "execution_count": 1,
   "metadata": {
    "collapsed": false
   },
   "outputs": [
    {
     "name": "stdout",
     "output_type": "stream",
     "text": [
      "Enter the word(s): aaeeeiiooouuukk\n"
     ]
    }
   ],
   "source": [
    "# Get the word\n",
    "words = input(\"Enter the word(s): \")\n"
   ]
  },
  {
   "cell_type": "code",
   "execution_count": 2,
   "metadata": {
    "collapsed": true
   },
   "outputs": [],
   "source": [
    "# create a dictonary\n",
    "vow_count = {}\n",
    "# For checking the vowels\n",
    "vow_check = ('a', 'e', 'i', 'o', 'u')\n"
   ]
  },
  {
   "cell_type": "code",
   "execution_count": 3,
   "metadata": {
    "collapsed": true
   },
   "outputs": [],
   "source": [
    "# Here comes the method\n",
    "for ch in words:\n",
    "    if ch in vow_check:\n",
    "        # Initilise the vowel to 0 if encounter first time\n",
    "        vow_count.setdefault(ch,0)\n",
    "        vow_count[ch] += 1\n"
   ]
  },
  {
   "cell_type": "code",
   "execution_count": 4,
   "metadata": {
    "collapsed": false
   },
   "outputs": [
    {
     "name": "stdout",
     "output_type": "stream",
     "text": [
      "o Occur 3 time(s)\n",
      "i Occur 2 time(s)\n",
      "a Occur 2 time(s)\n",
      "u Occur 3 time(s)\n",
      "e Occur 3 time(s)\n"
     ]
    }
   ],
   "source": [
    "# Print the Vowels frequencies\n",
    "for key, value in vow_count.items():\n",
    "    print(key, 'Occur', value, 'time(s)')"
   ]
  },
  {
   "cell_type": "code",
   "execution_count": null,
   "metadata": {
    "collapsed": true
   },
   "outputs": [],
   "source": []
  }
 ],
 "metadata": {
  "anaconda-cloud": {},
  "kernelspec": {
   "display_name": "Python [conda root]",
   "language": "python",
   "name": "conda-root-py"
  },
  "language_info": {
   "codemirror_mode": {
    "name": "ipython",
    "version": 3
   },
   "file_extension": ".py",
   "mimetype": "text/x-python",
   "name": "python",
   "nbconvert_exporter": "python",
   "pygments_lexer": "ipython3",
   "version": "3.5.2"
  }
 },
 "nbformat": 4,
 "nbformat_minor": 1
}
