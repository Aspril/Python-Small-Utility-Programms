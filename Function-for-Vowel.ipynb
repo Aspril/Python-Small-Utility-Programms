{
 "cells": [
  {
   "cell_type": "code",
   "execution_count": 2,
   "metadata": {
    "collapsed": true
   },
   "outputs": [],
   "source": [
    "# Variable declaration\n",
    "vow_count = {}\n",
    "vow_check = ('a', 'e', 'i', 'o', 'u')"
   ]
  },
  {
   "cell_type": "code",
   "execution_count": 4,
   "metadata": {
    "collapsed": false
   },
   "outputs": [],
   "source": [
    "# Define the Function. Which return the vowel frequncies\n",
    "def vow_fun(words):\n",
    "    \"This function return \"\n",
    "    for ch in words:\n",
    "        if ch in vow_check:\n",
    "            vow_count.setdefault(ch, 0)\n",
    "            vow_count[ch] +=1\n",
    "    return vow_count"
   ]
  },
  {
   "cell_type": "code",
   "execution_count": 7,
   "metadata": {
    "collapsed": false
   },
   "outputs": [
    {
     "name": "stdout",
     "output_type": "stream",
     "text": [
      "{'o': 6, 'a': 10, 'e': 10, 'i': 10}\n",
      "{'o': 6, 'a': 11, 'e': 11, 'i': 10}\n",
      "{'o': 10, 'a': 13, 'e': 13, 'i': 11}\n"
     ]
    }
   ],
   "source": [
    "word_list = [\"aaaaaeeeeeiiiiiooo\", \"asdeffff\", 'aswqwwsaeeooioo']\n",
    "for i in range(0, len(word_list)):\n",
    "    result = vow_fun(word_list[i])\n",
    "    print(result)"
   ]
  },
  {
   "cell_type": "code",
   "execution_count": 6,
   "metadata": {
    "collapsed": false
   },
   "outputs": [
    {
     "data": {
      "text/plain": [
       "{'a': 5, 'e': 5, 'i': 5, 'o': 3}"
      ]
     },
     "execution_count": 6,
     "metadata": {},
     "output_type": "execute_result"
    }
   ],
   "source": [
    "result"
   ]
  },
  {
   "cell_type": "code",
   "execution_count": 10,
   "metadata": {
    "collapsed": true
   },
   "outputs": [],
   "source": [
    "# Function to be Interactive\n",
    "def v_fun_inter():\n",
    "    v_count = {}\n",
    "    v_check = ('a', 'e', 'i', 'o', 'u')\n",
    "    words = input(\"Enter the Word(s): \")\n",
    "    for ch in words:\n",
    "        if ch in v_check:\n",
    "            v_count.setdefault(ch, 0)\n",
    "            v_count[ch] += 1\n",
    "    print(v_count)"
   ]
  },
  {
   "cell_type": "code",
   "execution_count": 12,
   "metadata": {
    "collapsed": false
   },
   "outputs": [
    {
     "name": "stdout",
     "output_type": "stream",
     "text": [
      "Enter the Word(s): kamran\n",
      "{'a': 2}\n",
      "Enter the Word(s): kausar\n",
      "{'a': 2, 'u': 1}\n",
      "Enter the Word(s): kamran kausar\n",
      "{'a': 4, 'u': 1}\n"
     ]
    }
   ],
   "source": [
    "for i in range(3):\n",
    "    v_fun_inter()"
   ]
  },
  {
   "cell_type": "code",
   "execution_count": null,
   "metadata": {
    "collapsed": true
   },
   "outputs": [],
   "source": []
  }
 ],
 "metadata": {
  "anaconda-cloud": {},
  "kernelspec": {
   "display_name": "Python [conda root]",
   "language": "python",
   "name": "conda-root-py"
  },
  "language_info": {
   "codemirror_mode": {
    "name": "ipython",
    "version": 3
   },
   "file_extension": ".py",
   "mimetype": "text/x-python",
   "name": "python",
   "nbconvert_exporter": "python",
   "pygments_lexer": "ipython3",
   "version": "3.5.2"
  }
 },
 "nbformat": 4,
 "nbformat_minor": 1
}
