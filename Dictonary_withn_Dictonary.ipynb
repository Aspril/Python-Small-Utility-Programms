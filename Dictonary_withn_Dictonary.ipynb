{
 "cells": [
  {
   "cell_type": "code",
   "execution_count": 1,
   "metadata": {
    "collapsed": true
   },
   "outputs": [],
   "source": [
    "people = {}"
   ]
  },
  {
   "cell_type": "code",
   "execution_count": 2,
   "metadata": {
    "collapsed": true
   },
   "outputs": [],
   "source": [
    "people['Salman'] = {'Name' : 'Salman Khan',\n",
    "                   'Gender' : 'Male',\n",
    "                   'Occupation' : 'Actor',\n",
    "                   'Age' : 45}"
   ]
  },
  {
   "cell_type": "code",
   "execution_count": 3,
   "metadata": {
    "collapsed": true
   },
   "outputs": [],
   "source": [
    "people['Khan'] = {'Name' : 'Saif Ali Khan',\n",
    "                 'Gender' : 'Male',\n",
    "                 'Occupation' : 'Actor',\n",
    "                 'Age' : 44}"
   ]
  },
  {
   "cell_type": "code",
   "execution_count": 4,
   "metadata": {
    "collapsed": true
   },
   "outputs": [],
   "source": [
    "people['Kaif'] = {'Name' : 'Katrina Kaif',\n",
    "                 'Gender' : 'Female',\n",
    "                 'Occupation' : 'Actor',\n",
    "                 'Age' : 35}"
   ]
  },
  {
   "cell_type": "code",
   "execution_count": 5,
   "metadata": {
    "collapsed": true
   },
   "outputs": [],
   "source": [
    "#To show the data beautiful\n",
    "import pprint"
   ]
  },
  {
   "cell_type": "code",
   "execution_count": 6,
   "metadata": {
    "collapsed": false
   },
   "outputs": [
    {
     "name": "stdout",
     "output_type": "stream",
     "text": [
      "{'Kaif': {'Age': 35,\n",
      "          'Gender': 'Female',\n",
      "          'Name': 'Katrina Kaif',\n",
      "          'Occupation': 'Actor'},\n",
      " 'Khan': {'Age': 44,\n",
      "          'Gender': 'Male',\n",
      "          'Name': 'Saif Ali Khan',\n",
      "          'Occupation': 'Actor'},\n",
      " 'Salman': {'Age': 45,\n",
      "            'Gender': 'Male',\n",
      "            'Name': 'Salman Khan',\n",
      "            'Occupation': 'Actor'}}\n"
     ]
    }
   ],
   "source": [
    "pprint.pprint(people)"
   ]
  },
  {
   "cell_type": "code",
   "execution_count": 7,
   "metadata": {
    "collapsed": false
   },
   "outputs": [
    {
     "data": {
      "text/plain": [
       "'Katrina Kaif'"
      ]
     },
     "execution_count": 7,
     "metadata": {},
     "output_type": "execute_result"
    }
   ],
   "source": [
    "# To access single entity\n",
    "people['Kaif']['Name']"
   ]
  },
  {
   "cell_type": "code",
   "execution_count": 8,
   "metadata": {
    "collapsed": false
   },
   "outputs": [
    {
     "data": {
      "text/plain": [
       "45"
      ]
     },
     "execution_count": 8,
     "metadata": {},
     "output_type": "execute_result"
    }
   ],
   "source": [
    "people['Salman']['Age']"
   ]
  },
  {
   "cell_type": "code",
   "execution_count": null,
   "metadata": {
    "collapsed": true
   },
   "outputs": [],
   "source": []
  }
 ],
 "metadata": {
  "anaconda-cloud": {},
  "kernelspec": {
   "display_name": "Python [conda root]",
   "language": "python",
   "name": "conda-root-py"
  },
  "language_info": {
   "codemirror_mode": {
    "name": "ipython",
    "version": 3
   },
   "file_extension": ".py",
   "mimetype": "text/x-python",
   "name": "python",
   "nbconvert_exporter": "python",
   "pygments_lexer": "ipython3",
   "version": "3.5.2"
  }
 },
 "nbformat": 4,
 "nbformat_minor": 1
}
